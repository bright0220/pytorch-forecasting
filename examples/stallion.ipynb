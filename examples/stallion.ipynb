{
 "cells": [
  {
   "cell_type": "code",
   "execution_count": 4,
   "outputs": [],
   "source": [
    "import os\n",
    "\n",
    "if \"temporal_fusion_transformer_pytorch\" not in os.listdir():\n",
    "    os.chdir(\"..\")"
   ],
   "metadata": {
    "collapsed": false,
    "pycharm": {
     "name": "#%%\n"
    }
   }
  },
  {
   "cell_type": "code",
   "execution_count": 19,
   "metadata": {
    "collapsed": true
   },
   "outputs": [
    {
     "data": {
      "text/plain": "        agency     sku    volume       date  industry_volume  soda_volume  \\\n0    Agency_22  SKU_01   52.2720 2013-01-01        492612703    718394219   \n238  Agency_37  SKU_04    0.0000 2013-01-01        492612703    718394219   \n237  Agency_59  SKU_03  812.9214 2013-01-01        492612703    718394219   \n236  Agency_11  SKU_01  316.4400 2013-01-01        492612703    718394219   \n235  Agency_05  SKU_05  420.9093 2013-01-01        492612703    718394219   \n\n     avg_max_temp  price_regular  price_actual    discount  ...  labor_day  \\\n0       25.845238    1168.903668   1069.166193   99.737475  ...          0   \n238     26.505000    1852.273642   1611.466298  240.807344  ...          0   \n237     22.219737    1270.795012   1197.184260   73.610752  ...          0   \n236     25.360000    1176.155397   1082.757488   93.397909  ...          0   \n235     24.079012    1327.003396   1207.822992  119.180404  ...          0   \n\n     independence_day  revolution_day_memorial  regional_games  \\\n0                   0                        0               0   \n238                 0                        0               0   \n237                 0                        0               0   \n236                 0                        0               0   \n235                 0                        0               0   \n\n     fifa_u_17_world_cup  football_gold_cup  beer_capital  music_fest  \\\n0                      0                  0             0           0   \n238                    0                  0             0           0   \n237                    0                  0             0           0   \n236                    0                  0             0           0   \n235                    0                  0             0           0   \n\n     discount_in_percent  month  \n0               8.532566      1  \n238            13.000635      1  \n237             5.792496      1  \n236             7.940950      1  \n235             8.981168      1  \n\n[5 rows x 26 columns]",
      "text/html": "<div>\n<style scoped>\n    .dataframe tbody tr th:only-of-type {\n        vertical-align: middle;\n    }\n\n    .dataframe tbody tr th {\n        vertical-align: top;\n    }\n\n    .dataframe thead th {\n        text-align: right;\n    }\n</style>\n<table border=\"1\" class=\"dataframe\">\n  <thead>\n    <tr style=\"text-align: right;\">\n      <th></th>\n      <th>agency</th>\n      <th>sku</th>\n      <th>volume</th>\n      <th>date</th>\n      <th>industry_volume</th>\n      <th>soda_volume</th>\n      <th>avg_max_temp</th>\n      <th>price_regular</th>\n      <th>price_actual</th>\n      <th>discount</th>\n      <th>...</th>\n      <th>labor_day</th>\n      <th>independence_day</th>\n      <th>revolution_day_memorial</th>\n      <th>regional_games</th>\n      <th>fifa_u_17_world_cup</th>\n      <th>football_gold_cup</th>\n      <th>beer_capital</th>\n      <th>music_fest</th>\n      <th>discount_in_percent</th>\n      <th>month</th>\n    </tr>\n  </thead>\n  <tbody>\n    <tr>\n      <th>0</th>\n      <td>Agency_22</td>\n      <td>SKU_01</td>\n      <td>52.2720</td>\n      <td>2013-01-01</td>\n      <td>492612703</td>\n      <td>718394219</td>\n      <td>25.845238</td>\n      <td>1168.903668</td>\n      <td>1069.166193</td>\n      <td>99.737475</td>\n      <td>...</td>\n      <td>0</td>\n      <td>0</td>\n      <td>0</td>\n      <td>0</td>\n      <td>0</td>\n      <td>0</td>\n      <td>0</td>\n      <td>0</td>\n      <td>8.532566</td>\n      <td>1</td>\n    </tr>\n    <tr>\n      <th>238</th>\n      <td>Agency_37</td>\n      <td>SKU_04</td>\n      <td>0.0000</td>\n      <td>2013-01-01</td>\n      <td>492612703</td>\n      <td>718394219</td>\n      <td>26.505000</td>\n      <td>1852.273642</td>\n      <td>1611.466298</td>\n      <td>240.807344</td>\n      <td>...</td>\n      <td>0</td>\n      <td>0</td>\n      <td>0</td>\n      <td>0</td>\n      <td>0</td>\n      <td>0</td>\n      <td>0</td>\n      <td>0</td>\n      <td>13.000635</td>\n      <td>1</td>\n    </tr>\n    <tr>\n      <th>237</th>\n      <td>Agency_59</td>\n      <td>SKU_03</td>\n      <td>812.9214</td>\n      <td>2013-01-01</td>\n      <td>492612703</td>\n      <td>718394219</td>\n      <td>22.219737</td>\n      <td>1270.795012</td>\n      <td>1197.184260</td>\n      <td>73.610752</td>\n      <td>...</td>\n      <td>0</td>\n      <td>0</td>\n      <td>0</td>\n      <td>0</td>\n      <td>0</td>\n      <td>0</td>\n      <td>0</td>\n      <td>0</td>\n      <td>5.792496</td>\n      <td>1</td>\n    </tr>\n    <tr>\n      <th>236</th>\n      <td>Agency_11</td>\n      <td>SKU_01</td>\n      <td>316.4400</td>\n      <td>2013-01-01</td>\n      <td>492612703</td>\n      <td>718394219</td>\n      <td>25.360000</td>\n      <td>1176.155397</td>\n      <td>1082.757488</td>\n      <td>93.397909</td>\n      <td>...</td>\n      <td>0</td>\n      <td>0</td>\n      <td>0</td>\n      <td>0</td>\n      <td>0</td>\n      <td>0</td>\n      <td>0</td>\n      <td>0</td>\n      <td>7.940950</td>\n      <td>1</td>\n    </tr>\n    <tr>\n      <th>235</th>\n      <td>Agency_05</td>\n      <td>SKU_05</td>\n      <td>420.9093</td>\n      <td>2013-01-01</td>\n      <td>492612703</td>\n      <td>718394219</td>\n      <td>24.079012</td>\n      <td>1327.003396</td>\n      <td>1207.822992</td>\n      <td>119.180404</td>\n      <td>...</td>\n      <td>0</td>\n      <td>0</td>\n      <td>0</td>\n      <td>0</td>\n      <td>0</td>\n      <td>0</td>\n      <td>0</td>\n      <td>0</td>\n      <td>8.981168</td>\n      <td>1</td>\n    </tr>\n  </tbody>\n</table>\n<p>5 rows × 26 columns</p>\n</div>"
     },
     "execution_count": 19,
     "metadata": {},
     "output_type": "execute_result"
    }
   ],
   "source": [
    "from pathlib import Path\n",
    "from leapfrog.etl import clean_column_names, optimize_memory\n",
    "import pandas as pd\n",
    "\n",
    "\n",
    "def parse_yearmonth(df):\n",
    "    return df.assign(date=lambda x: pd.to_datetime(x.yearmonth, format=\"%Y%m\")).drop(\"yearmonth\", axis=1)\n",
    "\n",
    "data_path = Path(\"examples/data/stallion\")\n",
    "weather = parse_yearmonth(clean_column_names(pd.read_csv(data_path / \"weather.csv\"))).set_index([\"date\", \"agency\"])\n",
    "price_sales_promotion = parse_yearmonth(\n",
    "    clean_column_names(pd.read_csv(data_path / \"price_sales_promotion.csv\")).rename(\n",
    "        columns={\"sales\": \"price_actual\", \"price\": \"price_regular\", \"promotions\": \"discount\"}\n",
    "    )\n",
    ").set_index([\"date\", \"sku\", \"agency\"])\n",
    "industry_volume = parse_yearmonth(clean_column_names(pd.read_csv(data_path / \"industry_volume.csv\"))).set_index(\"date\")\n",
    "industry_soda_sales = parse_yearmonth(clean_column_names(pd.read_csv(data_path / \"industry_soda_sales.csv\"))).set_index(\"date\")\n",
    "historical_volume = parse_yearmonth(clean_column_names(pd.read_csv(data_path / \"historical_volume.csv\")))\n",
    "event_calendar = parse_yearmonth(clean_column_names(pd.read_csv(data_path / \"event_calendar.csv\"))).set_index(\"date\")\n",
    "demographics = clean_column_names(pd.read_csv(data_path / \"demographics.csv\")).set_index(\"agency\")\n",
    "\n",
    "# combine the data\n",
    "data = (\n",
    "    historical_volume\n",
    "    .join(industry_volume, on=\"date\")\n",
    "    .join(industry_soda_sales, on=\"date\")\n",
    "    .join(weather, on=[\"date\", \"agency\"])\n",
    "    .join(price_sales_promotion, on=[\"date\", \"sku\", \"agency\"])\n",
    "    .join(demographics, on=\"agency\")\n",
    "    .join(event_calendar, on=\"date\")\n",
    "    .pipe(lambda x: optimize_memory(x, unique_value_ratio=1))\n",
    "    .sort_values('date')\n",
    ")\n",
    "\n",
    "# minor feature engineering: add 12 month rolling mean volume\n",
    "data = data.assign(discount_in_percent=lambda x: (x.discount / x.price_regular).fillna(0) * 100)\n",
    "data[\"month\"] = data.date.dt.month\n",
    "\n",
    "features = data.drop([\"volume\"], axis=1).dropna()\n",
    "target = data.volume[features.index]\n",
    "\n",
    "data.head()"
   ]
  },
  {
   "cell_type": "code",
   "execution_count": 28,
   "outputs": [
    {
     "data": {
      "text/plain": "agency     sku   \nAgency_22  SKU_01     99.933925\n           SKU_04    174.060578\n           SKU_03    109.060261\n           SKU_05    115.168426\n           SKU_02    106.797365\n                        ...    \nAgency_42  SKU_01    125.452170\n           SKU_04    116.459837\n           SKU_03    130.943412\n           SKU_05    150.786137\n           SKU_02    114.710078\nName: price_actual, Length: 350, dtype: float64"
     },
     "execution_count": 28,
     "metadata": {},
     "output_type": "execute_result"
    }
   ],
   "source": [
    "data.groupby([\"agency\", \"sku\"], observed=True).price_actual.std()"
   ],
   "metadata": {
    "collapsed": false,
    "pycharm": {
     "name": "#%%\n"
    }
   }
  },
  {
   "cell_type": "code",
   "execution_count": 22,
   "outputs": [
    {
     "data": {
      "text/plain": "['agency',\n 'sku',\n 'volume',\n 'date',\n 'industry_volume',\n 'soda_volume',\n 'avg_max_temp',\n 'price_regular',\n 'price_actual',\n 'discount',\n 'avg_population_2017',\n 'avg_yearly_household_income_2017',\n 'easter_day',\n 'good_friday',\n 'new_year',\n 'christmas',\n 'labor_day',\n 'independence_day',\n 'revolution_day_memorial',\n 'regional_games',\n 'fifa_u_17_world_cup',\n 'football_gold_cup',\n 'beer_capital',\n 'music_fest',\n 'discount_in_percent',\n 'month']"
     },
     "execution_count": 22,
     "metadata": {},
     "output_type": "execute_result"
    }
   ],
   "source": [
    "data.columns.to_list()"
   ],
   "metadata": {
    "collapsed": false,
    "pycharm": {
     "name": "#%%\n"
    }
   }
  },
  {
   "cell_type": "code",
   "execution_count": 30,
   "outputs": [
    {
     "name": "stderr",
     "output_type": "stream",
     "text": [
      "/Users/beitnerjan/Documents/Github/temporal_fusion_transformer_pytorch/temporal_fusion_transformer_pytorch/data.py:58: FutureWarning: M and Y units are deprecated and will be removed in a future version.\n",
      "  df_index_first = g[self.time].transform(\"nth\", 0).to_frame(\"time_first\")\n",
      "/Users/beitnerjan/Documents/Github/temporal_fusion_transformer_pytorch/temporal_fusion_transformer_pytorch/data.py:60: FutureWarning: M and Y units are deprecated and will be removed in a future version.\n",
      "  df_index_diff_to_next = (g[self.time].diff() / pd.Timedelta(*self.time_granularity)).fillna(0)\n",
      "/Users/beitnerjan/Documents/Github/temporal_fusion_transformer_pytorch/temporal_fusion_transformer_pytorch/data.py:61: FutureWarning: M and Y units are deprecated and will be removed in a future version.\n",
      "  df_index = pd.concat([df_index_first, df_index_last], axis=1)\n",
      "/Users/beitnerjan/Documents/Github/temporal_fusion_transformer_pytorch/temporal_fusion_transformer_pytorch/data.py:64: FutureWarning: M and Y units are deprecated and will be removed in a future version.\n",
      "  df_index[\"time_end_position\"] = (\n"
     ]
    },
    {
     "ename": "TypeError",
     "evalue": "'float' object is not iterable",
     "output_type": "error",
     "traceback": [
      "\u001B[0;31m---------------------------------------------------------------------------\u001B[0m",
      "\u001B[0;31mTypeError\u001B[0m                                 Traceback (most recent call last)",
      "\u001B[0;32m<ipython-input-30-afff76010fa0>\u001B[0m in \u001B[0;36m<module>\u001B[0;34m\u001B[0m\n\u001B[1;32m     29\u001B[0m                      \"discount_in_percent\"],\n\u001B[1;32m     30\u001B[0m                      \u001B[0mtime_varying_unknown_categoricals\u001B[0m\u001B[0;34m=\u001B[0m\u001B[0;34m[\u001B[0m\u001B[0;34m]\u001B[0m\u001B[0;34m,\u001B[0m\u001B[0;34m\u001B[0m\u001B[0;34m\u001B[0m\u001B[0m\n\u001B[0;32m---> 31\u001B[0;31m                      time_varying_unknown_reals=[\"industry_volume\", \"soda_volume\", \"avg_max_temp\"])\n\u001B[0m",
      "\u001B[0;32m~/Documents/Github/temporal_fusion_transformer_pytorch/temporal_fusion_transformer_pytorch/data.py\u001B[0m in \u001B[0;36m__init__\u001B[0;34m(self, data, time, time_granularity, target, group_ids, max_encode_length, max_prediction_length, static_categoricals, static_reals, time_varying_known_categoricals, time_varying_known_reals, time_varying_unknown_categoricals, time_varying_unknown_reals, embedding_size)\u001B[0m\n\u001B[1;32m     47\u001B[0m \u001B[0;34m\u001B[0m\u001B[0m\n\u001B[1;32m     48\u001B[0m         \u001B[0mself\u001B[0m\u001B[0;34m.\u001B[0m\u001B[0mdata\u001B[0m \u001B[0;34m=\u001B[0m \u001B[0mdata\u001B[0m\u001B[0;34m.\u001B[0m\u001B[0mreset_index\u001B[0m\u001B[0;34m(\u001B[0m\u001B[0mdrop\u001B[0m\u001B[0;34m=\u001B[0m\u001B[0;32mTrue\u001B[0m\u001B[0;34m)\u001B[0m\u001B[0;34m.\u001B[0m\u001B[0msort_values\u001B[0m\u001B[0;34m(\u001B[0m\u001B[0mself\u001B[0m\u001B[0;34m.\u001B[0m\u001B[0mgroup_ids\u001B[0m \u001B[0;34m+\u001B[0m \u001B[0;34m[\u001B[0m\u001B[0mself\u001B[0m\u001B[0;34m.\u001B[0m\u001B[0mtime\u001B[0m\u001B[0;34m]\u001B[0m\u001B[0;34m)\u001B[0m\u001B[0;34m\u001B[0m\u001B[0;34m\u001B[0m\u001B[0m\n\u001B[0;32m---> 49\u001B[0;31m         \u001B[0mself\u001B[0m\u001B[0;34m.\u001B[0m\u001B[0mdata_index\u001B[0m \u001B[0;34m=\u001B[0m \u001B[0mself\u001B[0m\u001B[0;34m.\u001B[0m\u001B[0mget_index_filtering\u001B[0m\u001B[0;34m(\u001B[0m\u001B[0;34m)\u001B[0m\u001B[0;34m\u001B[0m\u001B[0;34m\u001B[0m\u001B[0m\n\u001B[0m\u001B[1;32m     50\u001B[0m         \u001B[0mself\u001B[0m\u001B[0;34m.\u001B[0m\u001B[0mdata_index\u001B[0m \u001B[0;34m=\u001B[0m \u001B[0mself\u001B[0m\u001B[0;34m.\u001B[0m\u001B[0mdata_index\u001B[0m\u001B[0;34m[\u001B[0m\u001B[0mself\u001B[0m\u001B[0;34m.\u001B[0m\u001B[0mdata_index\u001B[0m\u001B[0;34m.\u001B[0m\u001B[0mend_rel\u001B[0m \u001B[0;34m<\u001B[0m \u001B[0mself\u001B[0m\u001B[0;34m.\u001B[0m\u001B[0mgroup_size\u001B[0m\u001B[0;34m]\u001B[0m\u001B[0;34m.\u001B[0m\u001B[0mreset_index\u001B[0m\u001B[0;34m(\u001B[0m\u001B[0;34m)\u001B[0m\u001B[0;34m\u001B[0m\u001B[0;34m\u001B[0m\u001B[0m\n\u001B[1;32m     51\u001B[0m \u001B[0;34m\u001B[0m\u001B[0m\n",
      "\u001B[0;32m~/Documents/Github/temporal_fusion_transformer_pytorch/temporal_fusion_transformer_pytorch/data.py\u001B[0m in \u001B[0;36mget_index_filtering\u001B[0;34m(self)\u001B[0m\n\u001B[1;32m     69\u001B[0m             \u001B[0mupper\u001B[0m\u001B[0;34m=\u001B[0m\u001B[0mdf_index\u001B[0m\u001B[0;34m[\u001B[0m\u001B[0;34m\"count\"\u001B[0m\u001B[0;34m]\u001B[0m \u001B[0;34m+\u001B[0m \u001B[0;36m1\u001B[0m\u001B[0;34m\u001B[0m\u001B[0;34m\u001B[0m\u001B[0m\n\u001B[1;32m     70\u001B[0m         )\n\u001B[0;32m---> 71\u001B[0;31m         \u001B[0;32mfor\u001B[0m \u001B[0m_\u001B[0m \u001B[0;32min\u001B[0m \u001B[0mdf_index\u001B[0m\u001B[0;34m[\u001B[0m\u001B[0;34m\"count\"\u001B[0m\u001B[0;34m]\u001B[0m\u001B[0;34m.\u001B[0m\u001B[0mmax\u001B[0m\u001B[0;34m(\u001B[0m\u001B[0;34m)\u001B[0m\u001B[0;34m:\u001B[0m\u001B[0;34m\u001B[0m\u001B[0;34m\u001B[0m\u001B[0m\n\u001B[0m\u001B[1;32m     72\u001B[0m             df_index[\"time_end_position\"] = df_index[\"time_end_position\"].where(\n\u001B[1;32m     73\u001B[0m                 \u001B[0mdf_index\u001B[0m\u001B[0;34m[\u001B[0m\u001B[0;34m\"time_end_position\"\u001B[0m\u001B[0;34m]\u001B[0m \u001B[0;34m+\u001B[0m \u001B[0mdf_index_diff_to_next\u001B[0m\u001B[0;34m.\u001B[0m\u001B[0miloc\u001B[0m\u001B[0;34m[\u001B[0m\u001B[0mdf_index\u001B[0m\u001B[0;34m[\u001B[0m\u001B[0;34m\"time_end_position\"\u001B[0m\u001B[0;34m]\u001B[0m\u001B[0;34m]\u001B[0m \u001B[0;34m<\u001B[0m \u001B[0mmax_count\u001B[0m\u001B[0;34m,\u001B[0m\u001B[0;34m\u001B[0m\u001B[0;34m\u001B[0m\u001B[0m\n",
      "\u001B[0;31mTypeError\u001B[0m: 'float' object is not iterable"
     ]
    }
   ],
   "source": [
    "import temporal_fusion_transformer_pytorch.data\n",
    "import importlib\n",
    "importlib.reload(temporal_fusion_transformer_pytorch.data)\n",
    "\n",
    "dl = temporal_fusion_transformer_pytorch.data.TimeSeriesDataLoader(data, time=\"date\", time_granularity=(1, \"M\"), target=\"volume\",\n",
    "                          group_ids=[\"agency\", \"sku\"],\n",
    "                     max_encode_length=50, max_prediction_length=12,\n",
    "                     static_categoricals=[\"agency\", \"sku\"],\n",
    "                     static_reals=[],\n",
    "                     time_varying_known_categoricals=[\n",
    "                         \"easter_day\",\n",
    "                        'good_friday',\n",
    "                        'new_year',\n",
    "                        'christmas',\n",
    "                        'labor_day',\n",
    "                        'independence_day',\n",
    "                        'revolution_day_memorial',\n",
    "                        'regional_games',\n",
    "                        'fifa_u_17_world_cup',\n",
    "                        'football_gold_cup',\n",
    "                        'beer_capital',\n",
    "                        'music_fest',],\n",
    "                     time_varying_known_reals=[\n",
    "                         \"price_regular\",\n",
    "                         \"price_actual\",\n",
    "                         \"discount\",\n",
    "                         'avg_population_2017',\n",
    "                         'avg_yearly_household_income_2017',\n",
    "                     \"discount_in_percent\"],\n",
    "                     time_varying_unknown_categoricals=[],\n",
    "                     time_varying_unknown_reals=[\"industry_volume\", \"soda_volume\", \"avg_max_temp\"])"
   ],
   "metadata": {
    "collapsed": false,
    "pycharm": {
     "name": "#%%\n"
    }
   }
  },
  {
   "cell_type": "code",
   "execution_count": null,
   "outputs": [],
   "source": [
    "\n"
   ],
   "metadata": {
    "collapsed": false,
    "pycharm": {
     "name": "#%%\n"
    }
   }
  }
 ],
 "metadata": {
  "kernelspec": {
   "display_name": "Python 3",
   "language": "python",
   "name": "python3"
  },
  "language_info": {
   "codemirror_mode": {
    "name": "ipython",
    "version": 2
   },
   "file_extension": ".py",
   "mimetype": "text/x-python",
   "name": "python",
   "nbconvert_exporter": "python",
   "pygments_lexer": "ipython2",
   "version": "2.7.6"
  }
 },
 "nbformat": 4,
 "nbformat_minor": 0
}